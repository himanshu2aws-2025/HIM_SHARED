{
 "cells": [
  {
   "cell_type": "markdown",
   "id": "05dcb6f8",
   "metadata": {},
   "source": [
    "# Capstone RAG Pipeline\n",
    "This notebook implements a RAG (Retrieval-Augmented Generation) pipeline for document processing, chunking, embedding, and querying."
   ]
  },
  {
   "cell_type": "code",
   "execution_count": null,
   "id": "d7d813b0",
   "metadata": {},
   "outputs": [],
   "source": [
    "\n",
    "# Install dependencies\n",
    "!pip install langchain openai faiss-cpu tiktoken python-dotenv PyPDF2\n",
    "    "
   ]
  },
  {
   "cell_type": "markdown",
   "id": "97c1b40f",
   "metadata": {},
   "source": [
    "## Step 1: Import Required Libraries"
   ]
  },
  {
   "cell_type": "code",
   "execution_count": null,
   "id": "2905e3d9",
   "metadata": {},
   "outputs": [],
   "source": [
    "\n",
    "import os\n",
    "import faiss\n",
    "import pickle\n",
    "import numpy as np\n",
    "from PyPDF2 import PdfReader\n",
    "from langchain.text_splitter import RecursiveCharacterTextSplitter\n",
    "from langchain.embeddings.openai import OpenAIEmbeddings\n",
    "from langchain.vectorstores import FAISS\n",
    "from langchain.chat_models import ChatOpenAI\n",
    "from langchain.chains import RetrievalQA\n",
    "from dotenv import load_dotenv\n",
    "\n",
    "load_dotenv()\n",
    "    "
   ]
  },
  {
   "cell_type": "markdown",
   "id": "b35566e0",
   "metadata": {},
   "source": [
    "## Step 2: Load and Read Documents"
   ]
  },
  {
   "cell_type": "code",
   "execution_count": null,
   "id": "acf56a33",
   "metadata": {},
   "outputs": [],
   "source": [
    "\n",
    "def load_pdfs_from_directory(directory_path):\n",
    "    docs = []\n",
    "    for filename in os.listdir(directory_path):\n",
    "        if filename.endswith('.pdf'):\n",
    "            pdf_path = os.path.join(directory_path, filename)\n",
    "            reader = PdfReader(pdf_path)\n",
    "            text = ''\n",
    "            for page in reader.pages:\n",
    "                text += page.extract_text()\n",
    "            docs.append({'filename': filename, 'text': text})\n",
    "    return docs\n",
    "\n",
    "pdf_directory = \"data/pdfs\"\n",
    "documents = load_pdfs_from_directory(pdf_directory)\n",
    "print(f\"Loaded {len(documents)} documents.\")\n",
    "    "
   ]
  },
  {
   "cell_type": "markdown",
   "id": "beadf8b9",
   "metadata": {},
   "source": [
    "## Step 3: Split Documents into Chunks"
   ]
  },
  {
   "cell_type": "code",
   "execution_count": null,
   "id": "c088fa74",
   "metadata": {},
   "outputs": [],
   "source": [
    "\n",
    "splitter = RecursiveCharacterTextSplitter(chunk_size=1000, chunk_overlap=200)\n",
    "texts = []\n",
    "for doc in documents:\n",
    "    for chunk in splitter.split_text(doc['text']):\n",
    "        texts.append({'filename': doc['filename'], 'content': chunk})\n",
    "print(f\"Generated {len(texts)} text chunks.\")\n",
    "    "
   ]
  },
  {
   "cell_type": "markdown",
   "id": "8a6b5a0c",
   "metadata": {},
   "source": [
    "## Step 4: Generate Embeddings and Store in FAISS"
   ]
  },
  {
   "cell_type": "code",
   "execution_count": null,
   "id": "f919c3a6",
   "metadata": {},
   "outputs": [],
   "source": [
    "\n",
    "embedding_model = OpenAIEmbeddings()\n",
    "texts_only = [t['content'] for t in texts]\n",
    "\n",
    "faiss_index = FAISS.from_texts(texts_only, embedding_model)\n",
    "faiss_index.save_local(\"vectorstore/faiss_index\")\n",
    "\n",
    "print(\"FAISS index created and saved successfully!\")\n",
    "    "
   ]
  },
  {
   "cell_type": "markdown",
   "id": "b4994beb",
   "metadata": {},
   "source": [
    "## Step 5: Query Using Retrieval-Augmented Generation (RAG)"
   ]
  },
  {
   "cell_type": "code",
   "execution_count": null,
   "id": "a5b81139",
   "metadata": {},
   "outputs": [],
   "source": [
    "\n",
    "retriever = faiss_index.as_retriever(search_kwargs={\"k\": 3})\n",
    "llm = ChatOpenAI(model=\"gpt-4-turbo\")\n",
    "\n",
    "qa_chain = RetrievalQA.from_chain_type(\n",
    "    llm=llm,\n",
    "    retriever=retriever,\n",
    "    chain_type=\"stuff\"\n",
    ")\n",
    "\n",
    "query = \"Summarize the main points from all documents.\"\n",
    "result = qa_chain.run(query)\n",
    "print(result)\n",
    "    "
   ]
  },
  {
   "cell_type": "markdown",
   "id": "25940af6",
   "metadata": {},
   "source": [
    "## Step 6: Save and Load Index"
   ]
  },
  {
   "cell_type": "code",
   "execution_count": null,
   "id": "35485fc8",
   "metadata": {},
   "outputs": [],
   "source": [
    "\n",
    "# Save\n",
    "faiss_index.save_local(\"vectorstore/faiss_index\")\n",
    "\n",
    "# Load\n",
    "new_faiss_index = FAISS.load_local(\"vectorstore/faiss_index\", embedding_model, allow_dangerous_deserialization=True)\n",
    "retriever = new_faiss_index.as_retriever()\n",
    "print(\"Index reloaded successfully!\")\n",
    "    "
   ]
  }
 ],
 "metadata": {},
 "nbformat": 4,
 "nbformat_minor": 5
}
